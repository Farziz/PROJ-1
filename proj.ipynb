{
 "cells": [
  {
   "cell_type": "markdown",
   "metadata": {},
   "source": [
    "# Импорты"
   ]
  },
  {
   "cell_type": "code",
   "execution_count": null,
   "metadata": {},
   "outputs": [],
   "source": [
    "import numpy as np\n",
    "import pandas as pd\n",
    "import matplotlib.pyplot as plt\n",
    "import seaborn as sns\n",
    "import plotly.express as px\n",
    "import plotly.figure_factory as ff\n",
    "import plotly.graph_objects as go"
   ]
  },
  {
   "cell_type": "code",
   "execution_count": null,
   "metadata": {},
   "outputs": [],
   "source": [
    "data = pd.read_csv('DATA\\dst-3.0_16_1_hh_database.csv', sep=';')\n",
    "ex_rates = pd.read_csv('DATA\\ExchangeRates.csv')"
   ]
  },
  {
   "cell_type": "markdown",
   "metadata": {},
   "source": [
    "# Исследование структуры данных"
   ]
  },
  {
   "cell_type": "markdown",
   "metadata": {},
   "source": [
    "##### 2.1"
   ]
  },
  {
   "cell_type": "code",
   "execution_count": null,
   "metadata": {},
   "outputs": [],
   "source": [
    "display(data.shape)"
   ]
  },
  {
   "cell_type": "markdown",
   "metadata": {},
   "source": [
    "##### 2.2"
   ]
  },
  {
   "cell_type": "code",
   "execution_count": null,
   "metadata": {},
   "outputs": [],
   "source": [
    "display(data.head(5), data.tail(5))"
   ]
  },
  {
   "cell_type": "markdown",
   "metadata": {},
   "source": [
    "##### 2.3"
   ]
  },
  {
   "cell_type": "code",
   "execution_count": null,
   "metadata": {},
   "outputs": [],
   "source": [
    "data.info()"
   ]
  },
  {
   "cell_type": "markdown",
   "metadata": {},
   "source": [
    "##### 2.4"
   ]
  },
  {
   "cell_type": "code",
   "execution_count": null,
   "metadata": {},
   "outputs": [],
   "source": [
    "cols_null = (data.isnull().mean() * 100).sort_values(ascending=False)\n",
    "display(cols_null)"
   ]
  },
  {
   "cell_type": "markdown",
   "metadata": {},
   "source": [
    "##### 2.5"
   ]
  },
  {
   "cell_type": "code",
   "execution_count": null,
   "metadata": {},
   "outputs": [],
   "source": [
    "display(data['Опыт работы'].nunique(),\n",
    "        data['Последняя/нынешняя должность'].mode())"
   ]
  },
  {
   "cell_type": "code",
   "execution_count": null,
   "metadata": {},
   "outputs": [],
   "source": [
    "data_hh = data.copy()"
   ]
  },
  {
   "cell_type": "markdown",
   "metadata": {},
   "source": [
    "# Предобработка данных"
   ]
  },
  {
   "cell_type": "markdown",
   "metadata": {},
   "source": [
    "#### Преобразование признака Образования и Вуза"
   ]
  },
  {
   "cell_type": "code",
   "execution_count": null,
   "metadata": {},
   "outputs": [],
   "source": [
    "data['Образование и ВУЗ'].apply(lambda x:' '.join(x.split()[:x.split().index('образование')])).unique()"
   ]
  },
  {
   "cell_type": "code",
   "execution_count": null,
   "metadata": {},
   "outputs": [],
   "source": [
    "data_hh['Образование и ВУЗ'] = data_hh['Образование и ВУЗ'].apply(lambda x: ' '.join(x.split()[:x.split().index('образование')]))"
   ]
  },
  {
   "cell_type": "markdown",
   "metadata": {},
   "source": [
    "##### 3.3"
   ]
  },
  {
   "cell_type": "code",
   "execution_count": null,
   "metadata": {},
   "outputs": [],
   "source": [
    "data_hh['Образование и ВУЗ'].value_counts()"
   ]
  },
  {
   "cell_type": "code",
   "execution_count": null,
   "metadata": {},
   "outputs": [],
   "source": [
    "data_hh['Пол'] = data_hh['Пол, возраст'].apply(lambda x: x.split()[0][0])\n",
    "data_hh['Возраст'] = data_hh['Пол, возраст'].apply(lambda x: int(x.split(',')[1].split()[0]))"
   ]
  },
  {
   "cell_type": "markdown",
   "metadata": {},
   "source": [
    "##### 3.2"
   ]
  },
  {
   "cell_type": "code",
   "execution_count": null,
   "metadata": {},
   "outputs": [],
   "source": [
    "display(data_hh['Пол'].value_counts(normalize=True) * 100,\n",
    "        data_hh['Возраст'].mean())"
   ]
  },
  {
   "cell_type": "code",
   "execution_count": null,
   "metadata": {},
   "outputs": [],
   "source": [
    "data_hh.drop(axis=1, labels='Пол, возраст', inplace=True)\n"
   ]
  },
  {
   "cell_type": "markdown",
   "metadata": {},
   "source": [
    "#### Преобразовование признака опыта работы"
   ]
  },
  {
   "cell_type": "code",
   "execution_count": null,
   "metadata": {},
   "outputs": [],
   "source": [
    "def apply_exp(x):\n",
    "    if x is np.nan or x == 'Не указано':\n",
    "        return None\n",
    "    \n",
    "    m,y = (0,0)\n",
    "    \n",
    "    x = x.split()\n",
    "    \n",
    "    if 'года' in x[:7] and x.index('года')<=7:\n",
    "        y = int(x[x.index('года')-1])\n",
    "    elif 'лет' in x[:7] and x.index('лет')<=7:\n",
    "        y = int(x[x.index('лет')-1])\n",
    "    elif 'год' in x[:7] and x.index('год')<=7:\n",
    "        y = int(x[x.index('год')-1])\n",
    "        print(x[:7])\n",
    "    \n",
    "    \n",
    "    if 'месяцев' in x[:7] and x.index('месяцев')<=7:\n",
    "        m = int(x[x.index('месяцев')-1])\n",
    "    elif 'месяца' in x[:7] and x.index('месяца')<=7:\n",
    "        m = int(x[x.index('месяца')-1]) \n",
    "    elif 'месяц' in x[:7] and x.index('месяц')<=7:\n",
    "        m = 1\n",
    "        \n",
    "\n",
    "    return y*12 + m\n",
    "\n",
    "data_hh['Опыт работы'] = data_hh['Опыт работы'].apply(apply_exp)\n",
    "# data_hh['Опыт работы'][data_hh['Опыт работы'].isnull()]\n",
    "display(data_hh['Опыт работы'].median())\n",
    "# data_hh['Опыт работы'].max()"
   ]
  },
  {
   "cell_type": "markdown",
   "metadata": {},
   "source": [
    "#### Гистограмма и коробчатая диаграмма для опыта работы"
   ]
  },
  {
   "cell_type": "code",
   "execution_count": null,
   "metadata": {},
   "outputs": [],
   "source": [
    "fig1 = plt.figure(figsize=(10, 7))\n",
    "gist = sns.histplot(\n",
    "    data=data_hh,\n",
    "    x = 'Опыт работы'\n",
    ")\n",
    "gist.axvline(data_hh['Опыт работы'].median(),color = 'k')\n",
    "gist.axvline(data_hh['Опыт работы'].mean(),ls='--',color = 'k')\n",
    "fig = plt.figure(figsize=(20, 7))\n",
    "boxplot = sns.boxplot(\n",
    "    data=data_hh,\n",
    "    x = 'Опыт работы',\n",
    "    width=0.9\n",
    ")\n",
    "boxplot.set_title('Опыт работы') "
   ]
  },
  {
   "cell_type": "markdown",
   "metadata": {},
   "source": [
    "эта часть кода, нужна, чтоб понять какие варианты есть в таблице в пункте про переезд"
   ]
  },
  {
   "cell_type": "code",
   "execution_count": null,
   "metadata": {},
   "outputs": [],
   "source": [
    "def finder(x):\n",
    "    x = x.split(' , ')\n",
    "    \n",
    "    for i in range(len(x)):\n",
    "        # if not (x[i].find('готов') == -1) and not(x[i].find('ком') == -1):\n",
    "        #     return x[i].split(' (')[0]\n",
    "        if not (x[i].find('не хочу') == -1) and not(x[i].find('пере') == -1):\n",
    "            return x[i].split(' (')[0]\n",
    "# data_hh['Город, переезд, командировки'].apply(lambda x: x[x.split(' , ')[:20].split() == 'готов'])\n",
    "print(list(data_hh['Город, переезд, командировки'].apply(finder).unique()))"
   ]
  },
  {
   "cell_type": "markdown",
   "metadata": {},
   "source": [
    "#### Преобразовавание признака «Город, переезд, командировки»"
   ]
  },
  {
   "cell_type": "code",
   "execution_count": null,
   "metadata": {},
   "outputs": [],
   "source": [
    "def city(x):\n",
    "    million_cities = ['Новосибирск', 'Екатеринбург', 'Нижний Новгород', 'Казань', 'Челябинск', 'Омск', 'Самара', 'Ростов-на-Дону', 'Уфа', 'Красноярск', 'Пермь', 'Воронеж', 'Волгоград' ]\n",
    "    x = x.split(' , ')\n",
    "    city = None\n",
    "    \n",
    "    \n",
    "    if x[0] == 'Москва' or x[0] == 'Санкт-Петербург':\n",
    "        city = x[0]\n",
    "    elif x[0] in million_cities:\n",
    "        city = 'город-миллионник'\n",
    "    else:\n",
    "        city = 'другие'\n",
    "    \n",
    "    return city\n",
    "\n",
    "def crossing(x):\n",
    "    x = x.split(' , ')\n",
    "    crossing = None\n",
    "    \n",
    "    for i in range(len(x)):   \n",
    "        if not (x[i].find('не готов') == -1) and not(x[i].find('переезд') == -1):\n",
    "            crossing = False\n",
    "        elif not (x[i].find('готов') == -1) and not(x[i].find('переезд') == -1):\n",
    "            crossing = True\n",
    "        elif not (x[i].find('хоч') == -1) and not(x[i].find('пере') == -1):\n",
    "            crossing = True\n",
    "    \n",
    "    return crossing\n",
    "\n",
    "def business_trip(x):\n",
    "    x = x.split(' , ')\n",
    "    business_trip = False\n",
    "    \n",
    "    for i in range(len(x)):   \n",
    "        if not (x[i].find('не готов') == -1) and (not(x[i].find('ком') == -1)):\n",
    "            business_trip = False\n",
    "        elif not (x[i].find('готов') == -1) and not(x[i].find('ком') == -1):\n",
    "            business_trip = True\n",
    "    \n",
    "    return business_trip\n",
    "\n",
    "data_hh['Город'] = data_hh['Город, переезд, командировки'].apply(city)\n",
    "data_hh['Готовность к переезду'] = data_hh['Город, переезд, командировки'].apply(crossing)\n",
    "data_hh['Готовность к командировкам'] = data_hh['Город, переезд, командировки'].apply(business_trip)\n",
    "data_hh.drop(axis=1, labels='Город, переезд, командировки', inplace=True)"
   ]
  },
  {
   "cell_type": "markdown",
   "metadata": {},
   "source": [
    "##### 3.4"
   ]
  },
  {
   "cell_type": "code",
   "execution_count": null,
   "metadata": {},
   "outputs": [],
   "source": [
    "display(data_hh['Город'].value_counts(normalize=True))\n",
    "print((data_hh[(data_hh['Готовность к переезду'] == data_hh['Готовность к командировкам']) & (data_hh['Готовность к командировкам'] == True) ].shape[0] / data_hh.shape[0] * 100))\n"
   ]
  },
  {
   "cell_type": "markdown",
   "metadata": {},
   "source": [
    "Проверяем какие есть случаи желаемой занятости и графика"
   ]
  },
  {
   "cell_type": "code",
   "execution_count": null,
   "metadata": {},
   "outputs": [],
   "source": [
    "l_range = []\n",
    "def f(x):\n",
    "    x = x.split(', ')\n",
    "    global l_range\n",
    "    for i in range(len(x)):\n",
    "        if x[i] not in l_range:\n",
    "            l_range.append(x[i])\n",
    "            \n",
    "\n",
    "data_hh['Занятость'].apply(f)\n",
    "emp = l_range\n",
    "l_range = []\n",
    "data_hh['График'].apply(f)\n",
    "charts = l_range\n",
    "print(l_range)"
   ]
  },
  {
   "cell_type": "markdown",
   "metadata": {},
   "source": [
    "##### One Hot Encoding 3.5"
   ]
  },
  {
   "cell_type": "code",
   "execution_count": null,
   "metadata": {},
   "outputs": [],
   "source": [
    "for i in emp:\n",
    "    data_hh[i] = data_hh['Занятость'].apply(lambda x: True if not x.find(i) == -1 else False)\n",
    "for i in charts:\n",
    "    data_hh[i] = data_hh['График'].apply(lambda x: True if not x.find(i) == -1 else False)\n",
    "data_hh = data_hh.drop('Занятость', axis=1)\n",
    "data_hh = data_hh.drop('График', axis=1)    "
   ]
  },
  {
   "cell_type": "markdown",
   "metadata": {},
   "source": [
    "Предыдущий вариант этой предабработки"
   ]
  },
  {
   "cell_type": "code",
   "execution_count": null,
   "metadata": {},
   "outputs": [],
   "source": [
    "# def employment(x):\n",
    "#     global a1, a2, a3, a4, a5\n",
    "#     x = x.split(', ')\n",
    "#     a1.append(False)\n",
    "#     a2.append(False)\n",
    "#     a3.append(False)\n",
    "#     a4.append(False)\n",
    "#     a5.append(False)\n",
    "#     # print(x)\n",
    "#     for i in range(len(x)):\n",
    "#         if x[i] == 'частичная занятость':\n",
    "#             a1[-1] = True\n",
    "#         if x[i] == 'проектная работа':\n",
    "#             a2[-1] = True\n",
    "#         if x[i] == 'полная занятость':\n",
    "#             a3[-1] = True\n",
    "#         if x[i] == 'стажировка':\n",
    "#             a4[-1] = True\n",
    "#         if x[i] == 'волонтерство':\n",
    "#             a5[-1] = True"
   ]
  },
  {
   "cell_type": "code",
   "execution_count": null,
   "metadata": {},
   "outputs": [],
   "source": [
    "# data_hh['Занятость'].apply(employment)"
   ]
  },
  {
   "cell_type": "code",
   "execution_count": null,
   "metadata": {},
   "outputs": [],
   "source": [
    "# data_hh['частичная занятость'] = a1\n",
    "# data_hh['проектная работа'] = a2\n",
    "# data_hh['полная занятость'] = a3\n",
    "# data_hh['стажировка'] = a4\n",
    "# data_hh['волонтерство'] = a5\n",
    "# # data_hh['Занятость'] = data_hh['Занятость'].apply(lambda x:''.join(x.split(', ')))\n",
    "# data_hh"
   ]
  },
  {
   "cell_type": "markdown",
   "metadata": {},
   "source": [
    "##### 3.5"
   ]
  },
  {
   "cell_type": "code",
   "execution_count": null,
   "metadata": {},
   "outputs": [],
   "source": [
    "display(data_hh[data_hh['проектная работа'] & data_hh['волонтерство']].shape[0],\n",
    "        data_hh[data_hh['вахтовый метод'] & data_hh['гибкий график']].shape[0])"
   ]
  },
  {
   "cell_type": "markdown",
   "metadata": {},
   "source": [
    "#### merge таблицы с валютами"
   ]
  },
  {
   "cell_type": "markdown",
   "metadata": {},
   "source": [
    "переводим в тип данных datetime"
   ]
  },
  {
   "cell_type": "code",
   "execution_count": null,
   "metadata": {},
   "outputs": [],
   "source": [
    "data_hh['Обновление резюме'] = data_hh['Обновление резюме'].apply(lambda x: pd.to_datetime(x.split()[0], dayfirst=True))"
   ]
  },
  {
   "cell_type": "markdown",
   "metadata": {},
   "source": [
    "##### Переименование валют в таблице с ее названиями\n"
   ]
  },
  {
   "cell_type": "code",
   "execution_count": null,
   "metadata": {},
   "outputs": [],
   "source": [
    "ISO_dict = {\n",
    "    'грн.':\"UAH\",\n",
    "    'USD':'USD',\n",
    "    'EUR':'EUR',\n",
    "    'сум':'UZS',\n",
    "    'бел.руб.':'BYN',\n",
    "    'KGS':'KGS',\n",
    "    'AZN':'AZN',\n",
    "    'KZT':'KZT',\n",
    "    'руб.':'RUB'\n",
    "}\n",
    "\n",
    "data_hh['ЗП'] = data['ЗП'].apply(lambda x: x.split()[0])\n",
    "data_hh['ISO'] = data['ЗП'].apply(lambda x: x.split()[1])\n",
    "data_hh['ISO'] = data_hh['ISO'].apply(lambda x: ISO_dict[x])"
   ]
  },
  {
   "cell_type": "markdown",
   "metadata": {},
   "source": [
    "Проверка количества значений"
   ]
  },
  {
   "cell_type": "code",
   "execution_count": null,
   "metadata": {},
   "outputs": [],
   "source": [
    "data_hh.ISO.unique()"
   ]
  },
  {
   "cell_type": "markdown",
   "metadata": {},
   "source": [
    "##### сам merge таблицы и удаление посторонних столбцов"
   ]
  },
  {
   "cell_type": "code",
   "execution_count": null,
   "metadata": {},
   "outputs": [],
   "source": [
    "ex_rates = ex_rates.drop('time', axis=1)\n",
    "ex_rates = ex_rates.drop('vol', axis=1)\n",
    "ex_rates = ex_rates.drop('per', axis=1)\n",
    "ex_rates.date = pd.to_datetime(ex_rates.date)\n",
    "data_hh = data_hh.merge(ex_rates, how='left', left_on=['ISO', 'Обновление резюме'], right_on=['currency','date'])\n",
    "data_hh = data_hh.drop('date', axis=1)\n",
    "data_hh = data_hh.drop('currency', axis=1)\n",
    "data_hh.loc[data_hh['ISO']=='RUB','close'] = 1\n",
    "data_hh.loc[data_hh['ISO']=='RUB','proportion'] = 1\n",
    "data_hh['ЗП'] = data_hh['ЗП'].astype('float64')\n",
    "data_hh['ЗП (руб)'] = data_hh['ЗП'] * data_hh['close'] / data_hh['proportion']\n",
    "# data_hh['Образование'] = data_hh['Образование и ВУЗ']\n",
    "# data_hh = data_hh.drop('Образование и ВУЗ', axis=1)\n",
    "data_hh = data_hh.drop('proportion', axis=1)\n",
    "data_hh = data_hh.drop('close', axis=1)\n",
    "data_hh = data_hh.drop('ЗП', axis=1)\n",
    "data_hh = data_hh.drop('ISO', axis=1)"
   ]
  },
  {
   "cell_type": "markdown",
   "metadata": {},
   "source": [
    "##### 3.6"
   ]
  },
  {
   "cell_type": "code",
   "execution_count": null,
   "metadata": {},
   "outputs": [],
   "source": [
    "data_hh['ЗП (руб)'].median()"
   ]
  },
  {
   "cell_type": "markdown",
   "metadata": {},
   "source": [
    "# EDA и визуализация"
   ]
  },
  {
   "cell_type": "markdown",
   "metadata": {},
   "source": [
    "##### 4.1 и график"
   ]
  },
  {
   "cell_type": "code",
   "execution_count": null,
   "metadata": {},
   "outputs": [],
   "source": [
    "age_gis = px.histogram(\n",
    "    data_frame=data_hh,\n",
    "    height=300,\n",
    "    width=900,\n",
    "    x = 'Возраст',\n",
    "    marginal='box'\n",
    ")\n",
    "age_gis_dist_data = list(data_hh['Возраст'])\n",
    "age_gis.add_vline(x = float(data_hh['Возраст'].mode()), line_color = 'Cyan', line_dash = 'dash')\n",
    "age_gis_dist = ff.create_distplot([age_gis_dist_data],['Возраст'],curve_type='kde', show_hist=True)\n",
    "age_gis.show()"
   ]
  },
  {
   "cell_type": "markdown",
   "metadata": {},
   "source": [
    "не запусать код ниже, если лаги не желательны (гистограмма с __kde__)"
   ]
  },
  {
   "cell_type": "code",
   "execution_count": null,
   "metadata": {},
   "outputs": [],
   "source": [
    "\n",
    "age_gis_dist.show()\n"
   ]
  },
  {
   "cell_type": "markdown",
   "metadata": {},
   "source": [
    "*Мода* распределния лежит рядом с *медианой* и равна __30__.\n",
    "Минимум признака равен __15__ годам, а максимум __100__, что скорее всего является выбросом.\n",
    "Понятно, что большинтво наблюдений будут находиться на межквартильном расстоянии, с __25__ по __75__. Аномалией можно считать наблюдение в 100 лет - очень мала вероятность встретить такого соискателя"
   ]
  },
  {
   "cell_type": "code",
   "execution_count": null,
   "metadata": {},
   "outputs": [],
   "source": [
    "exp_gis_data = data_hh[~ data_hh['Опыт работы'].isnull()]\n",
    "exp_gis = px.histogram(\n",
    "    data_frame= exp_gis_data,\n",
    "    height=300,\n",
    "    width=900,\n",
    "    x = 'Опыт работы',\n",
    "    marginal='box',\n",
    "    nbins=200\n",
    ")\n",
    "exp_gis.add_vline(x = float(exp_gis_data['Опыт работы'].mode()), line_color = 'Cyan', line_dash = 'dash')\n",
    "# exp_gis.add_vline(x = exp_gis_data['Опыт работы'].mode(), line_color = 'Red')\n",
    "exp_gis_dist_data = list(exp_gis_data['Опыт работы'])\n",
    "exp_gis_dist = ff.create_distplot([exp_gis_dist_data],['Опыт работы'],curve_type='kde', show_hist=True)\n",
    "exp_gis.show()\n",
    "exp_gis_data[exp_gis_data['Опыт работы'] == 1188]\n",
    "\n"
   ]
  },
  {
   "cell_type": "markdown",
   "metadata": {},
   "source": [
    "Как мы видим, мода распределения лежит в одной корзине с 9 другими значениями, начертим линию - видно, что *мода* равна __81__ месяцу. Минимум признака равен __1__, а максимум __1188__. Большинство значений лежат в межквартильном расстоянии, то есть между __57__ и __154__ месяцами. Аномалией конечно является наблюдение в 1188 месяцов(99 лет), которое принадлежит человеку с возрастом в 48 лет."
   ]
  },
  {
   "cell_type": "markdown",
   "metadata": {},
   "source": [
    "не запусать код ниже, если лаги не желательны (гистограмма с __kde__)"
   ]
  },
  {
   "cell_type": "code",
   "execution_count": null,
   "metadata": {},
   "outputs": [],
   "source": [
    "exp_gis_dist.show()"
   ]
  },
  {
   "cell_type": "markdown",
   "metadata": {},
   "source": [
    "##### 4.3"
   ]
  },
  {
   "cell_type": "code",
   "execution_count": null,
   "metadata": {},
   "outputs": [],
   "source": [
    "salary_gis_data = data_hh[~ data_hh['ЗП (руб)'].isnull()]\n",
    "salary_gis_data.to_csv('DATA/exp.csv')\n",
    "# salary_gis_data.drop(salary_gis_data['ЗП (руб)'].idxmax(), axis=0, inplace=True)\n",
    "\n",
    "salary_gis = px.histogram(\n",
    "    data_frame=salary_gis_data,\n",
    "    height=300,\n",
    "    width=1200,\n",
    "    histnorm='percent',\n",
    "    # log_x=True,\n",
    "    x = 'ЗП (руб)',\n",
    "    marginal='box',\n",
    ")\n",
    "salary_gis.add_vline(x = float(salary_gis_data['ЗП (руб)'].mode()), line_color = 'Cyan', line_dash = 'dash')"
   ]
  },
  {
   "cell_type": "markdown",
   "metadata": {},
   "source": [
    "По графику довольно трудно заметить, но *мода* распределения равна __50000__. *Минимум* равен 1, а *максимум* __24__ __миллионам__. Большинство зароботных плат лежит в межкваритльном рассотянии, то есть с __37054__ до __95000__. Аномалией для данного признака можно считать его хвост а также огромные значения, типа 1750000, 2500000, 3 миллионам, 7675224 и максимума признака, то есть все 5 значений превышающих миллион"
   ]
  },
  {
   "cell_type": "code",
   "execution_count": null,
   "metadata": {},
   "outputs": [],
   "source": [
    "# salary_gis_data_exp = data_hh[~ data_hh['ЗП (руб)'].isnull()]\n",
    "# # salary_gis_data.drop(salary_gis_data['ЗП (руб)'].idxmax(), axis=0, inplace=True)\n",
    "# salary_gis_data_exp['ЗП (руб)'] = np.log(salary_gis_data_exp['ЗП (руб)']+1)\n",
    "# salary_gis = px.histogram(\n",
    "#     data_frame=salary_gis_data_exp,\n",
    "#     height=300,\n",
    "#     width=800,\n",
    "#     x = 'ЗП (руб)',\n",
    "#     marginal='box',\n",
    "#     nbins = 1000\n",
    "# )\n",
    "# salary_gis.show()\n",
    "# # salary_gis.add_vline(x = float(salary_gis_data['ЗП (руб)'].mode()), line_color = 'Cyan', line_dash = 'dash')\n",
    "\n",
    "#вторая версия \n",
    "# salary_gis_data_exp = data_hh[~ data_hh['ЗП (руб)'].isnull()]\n",
    "# # salary_gis_data.drop(salary_gis_data['ЗП (руб)'].idxmax(), axis=0, inplace=True)\n",
    "# # salary_gis = px.histogram(\n",
    "# #     data_frame=salary_gis_data_exp,\n",
    "# #     height=300,\n",
    "# #     width=800,\n",
    "# #     x = 'ЗП (руб)',\n",
    "# #     marginal='box',\n",
    "# #     nbins = 1000\n",
    "# # )\n",
    "# salarty_gis = go.Figure()\n",
    "# salarty_gis.add_trace(go.Histogram(x =salary_gis_data_exp['ЗП (руб)']))\n",
    "# salarty_gis.update_xaxes(type = 'log')\n",
    "# salarty_gis.show()\n",
    "# # salary_gis.add_vline(x = float(salary_gis_data['ЗП (руб)'].mode()), line_color = 'Cyan', line_dash = 'dash')"
   ]
  },
  {
   "cell_type": "markdown",
   "metadata": {},
   "source": [
    "##### 4.4"
   ]
  },
  {
   "cell_type": "code",
   "execution_count": null,
   "metadata": {},
   "outputs": [],
   "source": [
    "salary_educ_data = data_hh[data_hh['ЗП (руб)'] < 1000000]\n",
    "salary_educ= px.box(\n",
    "    data_frame=salary_educ_data,\n",
    "    log_x=True,\n",
    "    x='ЗП (руб)',\n",
    "    color = 'Образование и ВУЗ',\n",
    "    height=400,\n",
    "    width=600\n",
    ")\n",
    "salary_educ.add_vline(x=salary_educ_data.loc[salary_educ_data['Образование и ВУЗ'] == 'Среднее', 'ЗП (руб)'].median(), line_color = '#ab63fa',line_dash = 'dash') #фиолетовый   \n",
    "salary_educ.add_vline(x=salary_educ_data.loc[salary_educ_data['Образование и ВУЗ'] == 'Среднее специальное', 'ЗП (руб)'].median(), line_color = '#00cc96') #изумрудный\n",
    "salary_educ.add_vline(x=salary_educ_data.loc[salary_educ_data['Образование и ВУЗ'] == 'Высшее', 'ЗП (руб)'].median(), line_color = '#ef553b', line_dash = 'dash') #красный\n",
    "salary_educ.add_vline(x=salary_educ_data.loc[salary_educ_data['Образование и ВУЗ'] == 'Неоконченное высшее', 'ЗП (руб)'].median(), line_color = '#636efa', line_dash = 'dash')#синий\n",
    "\n",
    "\n",
    "salary_educ.show()"
   ]
  },
  {
   "cell_type": "markdown",
   "metadata": {},
   "source": [
    "Для среденго специального образования характерен *минимум* желаемой зарботной платы, в противу высшему, для которого характерен *максимум*.\n",
    "Скорее всего при прогнозировании зароботной платы также стоит смотреть и на образование человека, оставившего анкету, ведь видна прямая корреляция зароботной платы и роста уровня образования"
   ]
  },
  {
   "cell_type": "markdown",
   "metadata": {},
   "source": [
    "##### 4.5"
   ]
  },
  {
   "cell_type": "code",
   "execution_count": null,
   "metadata": {},
   "outputs": [],
   "source": [
    "salary_educ_data = data_hh[data_hh['ЗП (руб)'] < 1000000]\n",
    "salary_city= px.box(\n",
    "    data_frame=salary_educ_data,\n",
    "    log_x=True,\n",
    "    x='ЗП (руб)',\n",
    "    color = 'Город',\n",
    "    height=400,\n",
    "    width=600\n",
    ")\n",
    "salary_city.add_vline(x=salary_educ_data.loc[salary_educ_data['Город'] == 'Санкт-Петербург', 'ЗП (руб)'].median(), line_color = '#ab63fa',line_dash = 'dash') #фиолетовый   \n",
    "salary_city.add_vline(x=salary_educ_data.loc[salary_educ_data['Город'] == 'город-миллионник', 'ЗП (руб)'].median(), line_color = '#00cc96') #изумрудный\n",
    "salary_city.add_vline(x=salary_educ_data.loc[salary_educ_data['Город'] == 'Москва', 'ЗП (руб)'].median(), line_color = '#ef553b', line_dash = 'dash') #красный\n",
    "salary_city.add_vline(x=salary_educ_data.loc[salary_educ_data['Город'] == 'другие', 'ЗП (руб)'].median(), line_color = '#636efa', line_dash = 'dash')#синий\n",
    "\n",
    "salary_city.show()"
   ]
  },
  {
   "cell_type": "markdown",
   "metadata": {},
   "source": [
    "Самая высокая желаемая медианная зароботная плата, очевидно в Москве, наименьшую медианную делят категории: Город-миллионник и другие. Скорее всего при прогнозировании этот признак будет невероятно важен, ведь на данных можно легко заметить корреляцию между желаемой ЗП и местоположением человека, подавшего анкету"
   ]
  },
  {
   "cell_type": "markdown",
   "metadata": {},
   "source": [
    "##### 4.6"
   ]
  },
  {
   "cell_type": "code",
   "execution_count": null,
   "metadata": {},
   "outputs": [],
   "source": [
    "# display(data_hh.groupby(['Готовность к переезду','Готовность к командировкам'], as_index=False)['ЗП (руб)'].median())\n",
    "salary_much_bar = px.bar(\n",
    "    data_frame=data_hh.groupby(['Готовность к переезду','Готовность к командировкам'], as_index=False)['ЗП (руб)'].median(), \n",
    "    y = 'ЗП (руб)',\n",
    "    x = 'Готовность к переезду',\n",
    "    color = 'Готовность к командировкам',\n",
    "    barmode='group',\n",
    "    height=600,\n",
    "    width=1000\n",
    ")\n",
    "salary_much_bar.show()"
   ]
  },
  {
   "cell_type": "markdown",
   "metadata": {},
   "source": [
    "По графику, можно легко заметить, что на чем большие пункты таблицы соискатель готов пойти, тем большую заработную плату он требует. Это правило на наших данных работает безотказно."
   ]
  },
  {
   "cell_type": "markdown",
   "metadata": {},
   "source": [
    "##### 4.7"
   ]
  },
  {
   "cell_type": "code",
   "execution_count": null,
   "metadata": {},
   "outputs": [],
   "source": [
    "salary_age_educ_data = data_hh.pivot_table(values='ЗП (руб)', columns = 'Возраст', index = 'Образование и ВУЗ', aggfunc='median' )\n",
    "heat_salary = px.imshow(\n",
    "    salary_age_educ_data,\n",
    "    labels = dict(x='Возраст', y='Образование'),\n",
    "    width=1000,\n",
    "    height=600\n",
    ")\n",
    "heat_salary.show()"
   ]
  },
  {
   "cell_type": "markdown",
   "metadata": {},
   "source": [
    "На всех 4 частях тепловой карты видна темная область вначале - людям нужно время , чтобы получить образование. Самый быстрый росто свойственен высшему образованию. В росте в зависимости от возраста в высшем образовании можно увидеть два пика, один в 38 лет, другой в 76, который скорее всего связан с выбром в данных. Такой же аномальный резкий скачак можно увидет и в среднем специальном в 67 годах."
   ]
  },
  {
   "cell_type": "markdown",
   "metadata": {},
   "source": [
    "##### 4.8"
   ]
  },
  {
   "cell_type": "code",
   "execution_count": null,
   "metadata": {},
   "outputs": [],
   "source": [
    "scatterplot_exp_data = data_hh.copy()\n",
    "scatterplot_exp_data['Опыт работы'] =  data_hh['Опыт работы'] / 12\n",
    "scatterplot_exp = px.scatter(\n",
    "    data_frame=scatterplot_exp_data,\n",
    "    x = 'Возраст',\n",
    "    y = 'Опыт работы',\n",
    "    height=600,\n",
    "    width=600\n",
    ")\n",
    "\n",
    "scatterplot_exp.add_trace(\n",
    "    go.Scatter(\n",
    "        x = [0,100],\n",
    "        y = [0,100],\n",
    "        mode='lines',\n",
    "        line=go.scatter.Line(color='black'),\n",
    "        showlegend=True)\n",
    ")\n",
    "scatterplot_exp.show()"
   ]
  },
  {
   "cell_type": "markdown",
   "metadata": {},
   "source": [
    "По графику легко можно определить количество точных выбросов в признаке возраста и опыта работы. Все точки, лежащие выше или на прямой - выбросы, их найдено 7."
   ]
  },
  {
   "cell_type": "markdown",
   "metadata": {},
   "source": [
    "##### 4.9"
   ]
  },
  {
   "cell_type": "code",
   "execution_count": null,
   "metadata": {},
   "outputs": [],
   "source": [
    "exp_age_salary = px.scatter_3d(\n",
    "    data_frame=data_hh[data_hh['ЗП (руб)']<1000000],\n",
    "    x='Возраст',\n",
    "    y='Опыт работы',\n",
    "    z='ЗП (руб)',\n",
    "    log_x = True,\n",
    "    log_y = True,\n",
    "    width=1000,\n",
    "    height=900,\n",
    "    \n",
    ")\n",
    "\n",
    "exp_age_salary.show()"
   ]
  },
  {
   "cell_type": "markdown",
   "metadata": {},
   "source": [
    "По графику легко заметить, что пик зароботной платы наблюдается в возрасте 30 лет со стажем примерно в 10. Также можно подтвердить довольно очевидный вывод, что опыт работы растет с возрастом соискателя"
   ]
  },
  {
   "cell_type": "markdown",
   "metadata": {},
   "source": [
    "##### 4.10"
   ]
  },
  {
   "cell_type": "code",
   "execution_count": null,
   "metadata": {},
   "outputs": [],
   "source": [
    "gender_age_salary = px.scatter(\n",
    "    data_frame=data_hh[data_hh['ЗП (руб)']<1000000],\n",
    "    color = 'Пол',\n",
    "    y = 'ЗП (руб)',\n",
    "    x = 'Опыт работы'\n",
    ")\n",
    "\n",
    "gender_age_salary.show()"
   ]
  },
  {
   "cell_type": "markdown",
   "metadata": {},
   "source": [
    "Как видно из данного графика, в среднем ЗП и опыт работы у мужчин среди соискателей больше, также можно заметить, что мужчины и требуют большей зароботной платы чем слабый пол."
   ]
  },
  {
   "cell_type": "markdown",
   "metadata": {},
   "source": [
    "# Очистка данных"
   ]
  },
  {
   "cell_type": "markdown",
   "metadata": {},
   "source": [
    "##### 5.1"
   ]
  },
  {
   "cell_type": "code",
   "execution_count": null,
   "metadata": {},
   "outputs": [],
   "source": [
    "mask = data_hh.duplicated()\n",
    "print(data_hh[mask].shape[0])\n",
    "data_hh = data_hh.drop_duplicates()\n"
   ]
  },
  {
   "cell_type": "markdown",
   "metadata": {},
   "source": [
    "##### 5.2"
   ]
  },
  {
   "cell_type": "code",
   "execution_count": null,
   "metadata": {},
   "outputs": [],
   "source": [
    "display(data_hh.info())"
   ]
  },
  {
   "cell_type": "code",
   "execution_count": null,
   "metadata": {},
   "outputs": [],
   "source": [
    "data_hh = data_hh[~data_hh['Последнее/нынешнее место работы'].isnull()]\n",
    "data_hh = data_hh[~data_hh['Последняя/нынешняя должность'].isnull()]\n",
    "data_hh = data_hh.fillna({'Опыт работы':data_hh['Опыт работы'].median()})\n"
   ]
  },
  {
   "cell_type": "markdown",
   "metadata": {},
   "source": [
    "##### 5.3"
   ]
  },
  {
   "cell_type": "code",
   "execution_count": null,
   "metadata": {},
   "outputs": [],
   "source": [
    "data_hh['Опыт работы'].mean()"
   ]
  },
  {
   "cell_type": "markdown",
   "metadata": {},
   "source": [
    "##### 5.4"
   ]
  },
  {
   "cell_type": "code",
   "execution_count": null,
   "metadata": {},
   "outputs": [],
   "source": [
    "data_hh = data_hh[(1000<=data_hh['ЗП (руб)'])& (data_hh['ЗП (руб)']<=1000000)]\n"
   ]
  },
  {
   "cell_type": "markdown",
   "metadata": {},
   "source": [
    "##### 5.5"
   ]
  },
  {
   "cell_type": "code",
   "execution_count": null,
   "metadata": {},
   "outputs": [],
   "source": [
    "data_hh = data_hh[(data_hh['Возраст']) > (data_hh['Опыт работы']/12)]"
   ]
  },
  {
   "cell_type": "code",
   "execution_count": null,
   "metadata": {},
   "outputs": [],
   "source": [
    "data_hh['Возраст'] = data_hh['Возраст'].astype('uint8')"
   ]
  },
  {
   "cell_type": "markdown",
   "metadata": {},
   "source": [
    "### 5.6"
   ]
  },
  {
   "cell_type": "code",
   "execution_count": null,
   "metadata": {},
   "outputs": [],
   "source": [
    "data_hh_log= np.log(data_hh['Возраст'].astype('float64')+1)"
   ]
  },
  {
   "cell_type": "code",
   "execution_count": null,
   "metadata": {},
   "outputs": [],
   "source": [
    "age_gis_log = px.histogram(\n",
    "    data_frame=data_hh_log,\n",
    "    height=300,\n",
    "    width=900,\n",
    "    # x = 'Возраст',\n",
    "    nbins=91,\n",
    "    marginal='box'         \n",
    ")\n",
    "print(np.log(data_hh['Возраст'].mean()))\n",
    "display(data_hh_log)\n",
    "print(data_hh_log.astype('float64').mean())\n",
    "age_gis_log.add_vline(data_hh_log.mean(),line_color = '#635efa' ,line_dash = 'dash')\n",
    "display(data_hh_log.skew())\n",
    "age_gis_log.add_vrect(x0=data_hh_log.mean() + 4 * data_hh_log.std(), \n",
    "                      x1=data_hh_log.mean() - 3 * data_hh_log.std(),\n",
    "                      annotation_text = 'Данные, подходящие           под метод трех сигм                                      ',\n",
    "                      fillcolor = 'skyblue',\n",
    "                      opacity = 0.25)\n",
    "\n",
    "# age_gis_log.add_vline()\n",
    "age_gis_log.show()\n"
   ]
  },
  {
   "cell_type": "markdown",
   "metadata": {},
   "source": [
    "Как можно понять из метода skew, распределение получилось с правосторонней асимметрией."
   ]
  },
  {
   "cell_type": "code",
   "execution_count": null,
   "metadata": {},
   "outputs": [],
   "source": [
    "def outliers_z_score_mod(data, feature,left = 3, right = 3, log_scale=False):\n",
    "    if log_scale:\n",
    "        x = np.log(data[feature].astype('float64')+1)\n",
    "    else:\n",
    "        x = data[feature]\n",
    "    mu = x.mean()\n",
    "    sigma = x.std()\n",
    "    lower_bound = mu - left * sigma\n",
    "    upper_bound = mu + right * sigma\n",
    "    outliers = data[(x < lower_bound) | (x > upper_bound)]\n",
    "    cleaned = data[(x > lower_bound) & (x < upper_bound)]\n",
    "    return outliers, cleaned\n",
    "\n",
    "\n",
    "outliers, cleaned = outliers_z_score_mod(data_hh, 'Возраст',left = 3,right=4, log_scale=True)"
   ]
  },
  {
   "cell_type": "code",
   "execution_count": null,
   "metadata": {},
   "outputs": [],
   "source": [
    "data_hh = cleaned.copy()"
   ]
  },
  {
   "cell_type": "markdown",
   "metadata": {},
   "source": [
    "#  Окончательные данные \n"
   ]
  },
  {
   "cell_type": "code",
   "execution_count": null,
   "metadata": {},
   "outputs": [],
   "source": [
    "data_hh.to_csv('DATA/data_hh.csv')"
   ]
  }
 ],
 "metadata": {
  "kernelspec": {
   "display_name": "Python 3.9.6 64-bit",
   "language": "python",
   "name": "python3"
  },
  "language_info": {
   "codemirror_mode": {
    "name": "ipython",
    "version": 3
   },
   "file_extension": ".py",
   "mimetype": "text/x-python",
   "name": "python",
   "nbconvert_exporter": "python",
   "pygments_lexer": "ipython3",
   "version": "3.9.6"
  },
  "orig_nbformat": 4,
  "vscode": {
   "interpreter": {
    "hash": "71bc6cd168257b96564fa94d75d86ea9050be254223113794ababf077f51833b"
   }
  }
 },
 "nbformat": 4,
 "nbformat_minor": 2
}
